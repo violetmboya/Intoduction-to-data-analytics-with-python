{
 "cells": [
  {
   "cell_type": "code",
   "execution_count": 1,
   "id": "3d60d052-ad1d-4078-b4eb-4bd3490c8e92",
   "metadata": {},
   "outputs": [],
   "source": [
    "def family():\n",
    "    print(\"Family members\")"
   ]
  },
  {
   "cell_type": "code",
   "execution_count": 2,
   "id": "affa1c42-7f50-4103-810c-6aee0d5c6bf5",
   "metadata": {},
   "outputs": [
    {
     "name": "stdout",
     "output_type": "stream",
     "text": [
      "Family members\n"
     ]
    }
   ],
   "source": [
    "family()\n"
   ]
  },
  {
   "cell_type": "code",
   "execution_count": 3,
   "id": "d34d08a2-bf3c-4259-9823-468028ecb906",
   "metadata": {},
   "outputs": [],
   "source": [
    "def GenZ():\n",
    "    print(\"Ruto must go\")"
   ]
  },
  {
   "cell_type": "code",
   "execution_count": 4,
   "id": "58a49a6b-f6ac-4662-9ab9-15833c08a0f6",
   "metadata": {},
   "outputs": [
    {
     "name": "stdout",
     "output_type": "stream",
     "text": [
      "Ruto must go\n"
     ]
    }
   ],
   "source": [
    "GenZ()"
   ]
  },
  {
   "cell_type": "code",
   "execution_count": 8,
   "id": "cc1b667a-cdf3-4c07-b1c3-63386562faa4",
   "metadata": {},
   "outputs": [],
   "source": [
    "def add(a,b):\n",
    "    result =a+b\n",
    "    return result"
   ]
  },
  {
   "cell_type": "code",
   "execution_count": 10,
   "id": "f094ae07-7195-4251-9b8a-0d0ffe2ee20c",
   "metadata": {},
   "outputs": [],
   "source": [
    "x= add(6,6)"
   ]
  },
  {
   "cell_type": "code",
   "execution_count": 11,
   "id": "997d3164-cae0-4cac-a427-489bbc952d0f",
   "metadata": {},
   "outputs": [
    {
     "data": {
      "text/plain": [
       "12"
      ]
     },
     "execution_count": 11,
     "metadata": {},
     "output_type": "execute_result"
    }
   ],
   "source": [
    "x"
   ]
  },
  {
   "cell_type": "code",
   "execution_count": 12,
   "id": "f940fca4-7dbe-40be-a353-c45936b02397",
   "metadata": {},
   "outputs": [
    {
     "data": {
      "text/plain": [
       "100"
      ]
     },
     "execution_count": 12,
     "metadata": {},
     "output_type": "execute_result"
    }
   ],
   "source": [
    "max(4,5,100)"
   ]
  },
  {
   "cell_type": "code",
   "execution_count": 13,
   "id": "263c7015-1159-4a24-b605-26c6e797dc3f",
   "metadata": {},
   "outputs": [
    {
     "data": {
      "text/plain": [
       "6"
      ]
     },
     "execution_count": 13,
     "metadata": {},
     "output_type": "execute_result"
    }
   ],
   "source": [
    "len(\"Violet\")"
   ]
  },
  {
   "cell_type": "code",
   "execution_count": 14,
   "id": "4cb6cbaf-754d-49b3-9718-fd12b2142842",
   "metadata": {},
   "outputs": [
    {
     "name": "stdout",
     "output_type": "stream",
     "text": [
      "1\n"
     ]
    }
   ],
   "source": [
    "my_list = [1,2,3,4,5]\n",
    "print(my_list[0]) #output: 1"
   ]
  },
  {
   "cell_type": "code",
   "execution_count": 15,
   "id": "b4031d48-e981-4506-90c0-17d091d8ead4",
   "metadata": {},
   "outputs": [
    {
     "data": {
      "text/plain": [
       "'wiu'"
      ]
     },
     "execution_count": 15,
     "metadata": {},
     "output_type": "execute_result"
    }
   ],
   "source": [
    "grocery=[\"tomato\", \"wiu\", \"onion\"]\n",
    "grocery[1]"
   ]
  },
  {
   "cell_type": "code",
   "execution_count": 16,
   "id": "53006699-3546-496f-ad95-afd6ed3604f7",
   "metadata": {},
   "outputs": [
    {
     "name": "stdout",
     "output_type": "stream",
     "text": [
      "tomato\n",
      "wiu\n",
      "onion\n",
      "['tomato', 'wiu', 'onion']\n"
     ]
    }
   ],
   "source": [
    "ind = 0\n",
    "for item in grocery:\n",
    "    print(item)\n",
    "\n",
    "print(grocery)\n",
    "    "
   ]
  },
  {
   "cell_type": "code",
   "execution_count": 17,
   "id": "fbb0c167-c008-48ac-b061-5d8513f4fd46",
   "metadata": {},
   "outputs": [],
   "source": [
    "grocery[2]=\"kitungu\""
   ]
  },
  {
   "cell_type": "code",
   "execution_count": 18,
   "id": "29e4f8da-df23-4c41-8b08-47e49c0f3e23",
   "metadata": {},
   "outputs": [
    {
     "name": "stdout",
     "output_type": "stream",
     "text": [
      "['tomato', 'wiu', 'kitungu']\n"
     ]
    }
   ],
   "source": [
    "grocery=[\"tomato\",\"wiu\",\"onion\"]\n",
    "ind = 0\n",
    "for item in grocery:\n",
    "    if item ==\"onion\":\n",
    "        grocery[ind]='kitungu'\n",
    "    ind= ind +1\n",
    "print(grocery)"
   ]
  },
  {
   "cell_type": "code",
   "execution_count": 19,
   "id": "fe994761-09d3-4918-9170-45e7b15c0f05",
   "metadata": {},
   "outputs": [
    {
     "name": "stdout",
     "output_type": "stream",
     "text": [
      "['tomato', 'wiu', 'kitungu', 'cabbage']\n"
     ]
    }
   ],
   "source": [
    "grocery.append(\"cabbage\")\n",
    "print(grocery)"
   ]
  },
  {
   "cell_type": "code",
   "execution_count": 20,
   "id": "37760080-aeda-4470-89a6-83b4e213cdfb",
   "metadata": {},
   "outputs": [
    {
     "data": {
      "text/plain": [
       "['tomato', 'wiu', 'kitungu', 'cabbage']"
      ]
     },
     "execution_count": 20,
     "metadata": {},
     "output_type": "execute_result"
    }
   ],
   "source": [
    "grocery.copy()"
   ]
  },
  {
   "cell_type": "code",
   "execution_count": 21,
   "id": "38996e77-f8a1-407a-8e43-414bcd54d5da",
   "metadata": {},
   "outputs": [],
   "source": [
    "grocery.sort()"
   ]
  },
  {
   "cell_type": "code",
   "execution_count": null,
   "id": "ee3bfe31-397f-498b-9803-dfcdfd8fda6e",
   "metadata": {},
   "outputs": [],
   "source": []
  }
 ],
 "metadata": {
  "kernelspec": {
   "display_name": "Python 3 (ipykernel)",
   "language": "python",
   "name": "python3"
  },
  "language_info": {
   "codemirror_mode": {
    "name": "ipython",
    "version": 3
   },
   "file_extension": ".py",
   "mimetype": "text/x-python",
   "name": "python",
   "nbconvert_exporter": "python",
   "pygments_lexer": "ipython3",
   "version": "3.12.4"
  }
 },
 "nbformat": 4,
 "nbformat_minor": 5
}
