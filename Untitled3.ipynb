{
 "cells": [
  {
   "cell_type": "code",
   "execution_count": null,
   "id": "9b095b10-df98-4ba0-8598-1d53ea6e7c4b",
   "metadata": {},
   "outputs": [],
   "source": [
    "my_dictionary={\n",
    "    "
   ]
  }
 ],
 "metadata": {
  "kernelspec": {
   "display_name": "Python 3 (ipykernel)",
   "language": "python",
   "name": "python3"
  },
  "language_info": {
   "codemirror_mode": {
    "name": "ipython",
    "version": 3
   },
   "file_extension": ".py",
   "mimetype": "text/x-python",
   "name": "python",
   "nbconvert_exporter": "python",
   "pygments_lexer": "ipython3",
   "version": "3.12.4"
  }
 },
 "nbformat": 4,
 "nbformat_minor": 5
}
