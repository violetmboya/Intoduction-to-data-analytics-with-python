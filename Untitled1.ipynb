{
 "cells": [
  {
   "cell_type": "code",
   "execution_count": 41,
   "id": "8a38f2d8-7e7c-4e58-a757-306930db8392",
   "metadata": {},
   "outputs": [
    {
     "name": "stdout",
     "output_type": "stream",
     "text": [
      "{'name': ['person 1', 'person 2', 'person 3', 'person 4', 'person 5'], 'age': [35, 100, 60, 50, 76], 'salary': [400, 500, 600, 650, 75000]}\n"
     ]
    }
   ],
   "source": [
    "print(my_dictionary)"
   ]
  },
  {
   "cell_type": "code",
   "execution_count": 42,
   "id": "bbb02493-687b-4ef6-92f1-6a5c0b65e508",
   "metadata": {},
   "outputs": [],
   "source": [
    "my_dictionary= {\n",
    "    \"name\":[\"person 1\",\"person 2\",\"person 3\",\"person 4\",\"person 5\"],\n",
    "    \"age\":[35,100,60,50,76],\n",
    "    \"salary\":[400,500,600,650,75000],\n",
    "    \"location\":[\"Mombasa\",\"Nairobi\",\"Kisumu\",\"Nakuru\",\"Kericho\"],\n",
    "}"
   ]
  },
  {
   "cell_type": "code",
   "execution_count": 43,
   "id": "2b118fa7-728b-4d73-9284-e576a0acb93c",
   "metadata": {},
   "outputs": [
    {
     "name": "stdout",
     "output_type": "stream",
     "text": [
      "{'name': ['person 1', 'person 2', 'person 3', 'person 4', 'person 5'], 'age': [35, 100, 60, 50, 76], 'salary': [400, 500, 600, 650, 75000], 'location': ['Mombasa', 'Nairobi', 'Kisumu', 'Nakuru', 'Kericho']}\n"
     ]
    }
   ],
   "source": [
    "print(my_dictionary)"
   ]
  },
  {
   "cell_type": "code",
   "execution_count": 7,
   "id": "b0dbd04f-df94-4e4b-aeda-3327e3bb97bc",
   "metadata": {},
   "outputs": [
    {
     "name": "stdout",
     "output_type": "stream",
     "text": [
      "{'name': ['person 1', 'person 2', 'person 3', 'person 4', 'person 5'], 'age': [35, 100, 60, 50, 76], 'salary': [400, 500, 600.65, 75000]}\n"
     ]
    }
   ],
   "source": [
    "print(my_dictionary)"
   ]
  },
  {
   "cell_type": "code",
   "execution_count": 37,
   "id": "46a9ae05-3085-4f20-a293-82352ad75cfb",
   "metadata": {},
   "outputs": [
    {
     "name": "stdout",
     "output_type": "stream",
     "text": [
      "name ['person 1', 'person 2', 'person 3', 'person 4', 'person 5']\n",
      "age [35, 100, 60, 50, 76]\n",
      "salary [400, 500, 600, 650, 75000]\n"
     ]
    }
   ],
   "source": [
    "for key, value in my_dictionary.items():\n",
    "    print(key, value)\n"
   ]
  },
  {
   "cell_type": "code",
   "execution_count": 44,
   "id": "72db20d6-b258-453d-b248-fb7f3cd0a566",
   "metadata": {},
   "outputs": [],
   "source": [
    "del my_dictionary[\"location\"]"
   ]
  },
  {
   "cell_type": "code",
   "execution_count": 45,
   "id": "e376263d-4c56-4552-ad76-0c0158645a4b",
   "metadata": {},
   "outputs": [
    {
     "data": {
      "text/plain": [
       "{'name': ['person 1', 'person 2', 'person 3', 'person 4', 'person 5'],\n",
       " 'age': [35, 100, 60, 50, 76],\n",
       " 'salary': [400, 500, 600, 650, 75000]}"
      ]
     },
     "execution_count": 45,
     "metadata": {},
     "output_type": "execute_result"
    }
   ],
   "source": [
    "my_dictionary"
   ]
  },
  {
   "cell_type": "code",
   "execution_count": 30,
   "id": "b174633e-c8eb-40fa-99eb-c7564a797482",
   "metadata": {},
   "outputs": [],
   "source": [
    "import pandas as pd"
   ]
  },
  {
   "cell_type": "code",
   "execution_count": null,
   "id": "f441a6d9-ce5c-49ec-8f2d-b3b51b63a0e3",
   "metadata": {},
   "outputs": [],
   "source": []
  },
  {
   "cell_type": "code",
   "execution_count": 48,
   "id": "f158cf9f-bda2-4734-aaa0-18eb1cb9b033",
   "metadata": {},
   "outputs": [
    {
     "data": {
      "text/plain": [
       "{'name': ['person 1', 'person 2', 'person 3', 'person 4', 'person 5'],\n",
       " 'age': [35, 100, 60, 50, 76],\n",
       " 'salary': [400, 500, 600, 650, 75000]}"
      ]
     },
     "execution_count": 48,
     "metadata": {},
     "output_type": "execute_result"
    }
   ],
   "source": [
    "my_dictionary"
   ]
  },
  {
   "cell_type": "code",
   "execution_count": 46,
   "id": "338b9813-ab00-4a4b-8b9e-2a9d5b244955",
   "metadata": {},
   "outputs": [],
   "source": [
    "df=pd.DataFrame(my_dictionary)"
   ]
  },
  {
   "cell_type": "code",
   "execution_count": 47,
   "id": "7bd41e3e-83b1-4db2-b81b-f459b094596b",
   "metadata": {},
   "outputs": [
    {
     "data": {
      "text/html": [
       "<div>\n",
       "<style scoped>\n",
       "    .dataframe tbody tr th:only-of-type {\n",
       "        vertical-align: middle;\n",
       "    }\n",
       "\n",
       "    .dataframe tbody tr th {\n",
       "        vertical-align: top;\n",
       "    }\n",
       "\n",
       "    .dataframe thead th {\n",
       "        text-align: right;\n",
       "    }\n",
       "</style>\n",
       "<table border=\"1\" class=\"dataframe\">\n",
       "  <thead>\n",
       "    <tr style=\"text-align: right;\">\n",
       "      <th></th>\n",
       "      <th>name</th>\n",
       "      <th>age</th>\n",
       "      <th>salary</th>\n",
       "    </tr>\n",
       "  </thead>\n",
       "  <tbody>\n",
       "    <tr>\n",
       "      <th>0</th>\n",
       "      <td>person 1</td>\n",
       "      <td>35</td>\n",
       "      <td>400</td>\n",
       "    </tr>\n",
       "    <tr>\n",
       "      <th>1</th>\n",
       "      <td>person 2</td>\n",
       "      <td>100</td>\n",
       "      <td>500</td>\n",
       "    </tr>\n",
       "    <tr>\n",
       "      <th>2</th>\n",
       "      <td>person 3</td>\n",
       "      <td>60</td>\n",
       "      <td>600</td>\n",
       "    </tr>\n",
       "    <tr>\n",
       "      <th>3</th>\n",
       "      <td>person 4</td>\n",
       "      <td>50</td>\n",
       "      <td>650</td>\n",
       "    </tr>\n",
       "    <tr>\n",
       "      <th>4</th>\n",
       "      <td>person 5</td>\n",
       "      <td>76</td>\n",
       "      <td>75000</td>\n",
       "    </tr>\n",
       "  </tbody>\n",
       "</table>\n",
       "</div>"
      ],
      "text/plain": [
       "       name  age  salary\n",
       "0  person 1   35     400\n",
       "1  person 2  100     500\n",
       "2  person 3   60     600\n",
       "3  person 4   50     650\n",
       "4  person 5   76   75000"
      ]
     },
     "execution_count": 47,
     "metadata": {},
     "output_type": "execute_result"
    }
   ],
   "source": [
    "df"
   ]
  },
  {
   "cell_type": "code",
   "execution_count": 49,
   "id": "d4ac68ad-0e8d-4c0f-938c-793d087842ba",
   "metadata": {},
   "outputs": [
    {
     "data": {
      "text/html": [
       "<div>\n",
       "<style scoped>\n",
       "    .dataframe tbody tr th:only-of-type {\n",
       "        vertical-align: middle;\n",
       "    }\n",
       "\n",
       "    .dataframe tbody tr th {\n",
       "        vertical-align: top;\n",
       "    }\n",
       "\n",
       "    .dataframe thead th {\n",
       "        text-align: right;\n",
       "    }\n",
       "</style>\n",
       "<table border=\"1\" class=\"dataframe\">\n",
       "  <thead>\n",
       "    <tr style=\"text-align: right;\">\n",
       "      <th></th>\n",
       "      <th>name</th>\n",
       "      <th>age</th>\n",
       "    </tr>\n",
       "  </thead>\n",
       "  <tbody>\n",
       "    <tr>\n",
       "      <th>0</th>\n",
       "      <td>person 1</td>\n",
       "      <td>35</td>\n",
       "    </tr>\n",
       "    <tr>\n",
       "      <th>1</th>\n",
       "      <td>person 2</td>\n",
       "      <td>100</td>\n",
       "    </tr>\n",
       "    <tr>\n",
       "      <th>2</th>\n",
       "      <td>person 3</td>\n",
       "      <td>60</td>\n",
       "    </tr>\n",
       "    <tr>\n",
       "      <th>3</th>\n",
       "      <td>person 4</td>\n",
       "      <td>50</td>\n",
       "    </tr>\n",
       "    <tr>\n",
       "      <th>4</th>\n",
       "      <td>person 5</td>\n",
       "      <td>76</td>\n",
       "    </tr>\n",
       "  </tbody>\n",
       "</table>\n",
       "</div>"
      ],
      "text/plain": [
       "       name  age\n",
       "0  person 1   35\n",
       "1  person 2  100\n",
       "2  person 3   60\n",
       "3  person 4   50\n",
       "4  person 5   76"
      ]
     },
     "execution_count": 49,
     "metadata": {},
     "output_type": "execute_result"
    }
   ],
   "source": [
    "df[[\"name\",\"age\"]]"
   ]
  },
  {
   "cell_type": "code",
   "execution_count": 51,
   "id": "a8be1362-e057-457b-8b09-8aa65029097c",
   "metadata": {},
   "outputs": [
    {
     "data": {
      "text/plain": [
       "0     36\n",
       "1    101\n",
       "2     61\n",
       "3     51\n",
       "4     77\n",
       "Name: age, dtype: int64"
      ]
     },
     "execution_count": 51,
     "metadata": {},
     "output_type": "execute_result"
    }
   ],
   "source": [
    "df[\"age\"]+1"
   ]
  },
  {
   "cell_type": "code",
   "execution_count": null,
   "id": "d9721e2f-d6cc-4f9d-aa58-9cb8b6dda789",
   "metadata": {},
   "outputs": [],
   "source": []
  },
  {
   "cell_type": "code",
   "execution_count": 52,
   "id": "cfc787b1-075a-4d91-88e4-c0b3c2370d4f",
   "metadata": {},
   "outputs": [
    {
     "data": {
      "text/plain": [
       "name      object\n",
       "age        int64\n",
       "salary     int64\n",
       "dtype: object"
      ]
     },
     "execution_count": 52,
     "metadata": {},
     "output_type": "execute_result"
    }
   ],
   "source": [
    "df.dtypes"
   ]
  },
  {
   "cell_type": "code",
   "execution_count": 55,
   "id": "7195891d-e5d9-4704-8f83-727157db892a",
   "metadata": {},
   "outputs": [],
   "source": [
    "df[\"age\"] = df[\"age\"]+1"
   ]
  },
  {
   "cell_type": "code",
   "execution_count": 56,
   "id": "a60b1323-0da1-4f84-a0b2-a9700185b5e8",
   "metadata": {},
   "outputs": [
    {
     "data": {
      "text/html": [
       "<div>\n",
       "<style scoped>\n",
       "    .dataframe tbody tr th:only-of-type {\n",
       "        vertical-align: middle;\n",
       "    }\n",
       "\n",
       "    .dataframe tbody tr th {\n",
       "        vertical-align: top;\n",
       "    }\n",
       "\n",
       "    .dataframe thead th {\n",
       "        text-align: right;\n",
       "    }\n",
       "</style>\n",
       "<table border=\"1\" class=\"dataframe\">\n",
       "  <thead>\n",
       "    <tr style=\"text-align: right;\">\n",
       "      <th></th>\n",
       "      <th>name</th>\n",
       "      <th>age</th>\n",
       "      <th>salary</th>\n",
       "    </tr>\n",
       "  </thead>\n",
       "  <tbody>\n",
       "    <tr>\n",
       "      <th>0</th>\n",
       "      <td>person 1</td>\n",
       "      <td>36</td>\n",
       "      <td>400</td>\n",
       "    </tr>\n",
       "    <tr>\n",
       "      <th>1</th>\n",
       "      <td>person 2</td>\n",
       "      <td>101</td>\n",
       "      <td>500</td>\n",
       "    </tr>\n",
       "    <tr>\n",
       "      <th>2</th>\n",
       "      <td>person 3</td>\n",
       "      <td>61</td>\n",
       "      <td>600</td>\n",
       "    </tr>\n",
       "    <tr>\n",
       "      <th>3</th>\n",
       "      <td>person 4</td>\n",
       "      <td>51</td>\n",
       "      <td>650</td>\n",
       "    </tr>\n",
       "    <tr>\n",
       "      <th>4</th>\n",
       "      <td>person 5</td>\n",
       "      <td>77</td>\n",
       "      <td>75000</td>\n",
       "    </tr>\n",
       "  </tbody>\n",
       "</table>\n",
       "</div>"
      ],
      "text/plain": [
       "       name  age  salary\n",
       "0  person 1   36     400\n",
       "1  person 2  101     500\n",
       "2  person 3   61     600\n",
       "3  person 4   51     650\n",
       "4  person 5   77   75000"
      ]
     },
     "execution_count": 56,
     "metadata": {},
     "output_type": "execute_result"
    }
   ],
   "source": [
    "df"
   ]
  },
  {
   "cell_type": "code",
   "execution_count": 71,
   "id": "5efac1b1-900e-4a7a-8352-266303d6280e",
   "metadata": {},
   "outputs": [],
   "source": [
    "df[\"age\"],df[\"salary\"]=df[\"age\"]+1, df[\"salary\"]+500"
   ]
  },
  {
   "cell_type": "code",
   "execution_count": 72,
   "id": "87ea1b2f-1122-4597-88a9-10238a95ec7e",
   "metadata": {},
   "outputs": [
    {
     "data": {
      "text/html": [
       "<div>\n",
       "<style scoped>\n",
       "    .dataframe tbody tr th:only-of-type {\n",
       "        vertical-align: middle;\n",
       "    }\n",
       "\n",
       "    .dataframe tbody tr th {\n",
       "        vertical-align: top;\n",
       "    }\n",
       "\n",
       "    .dataframe thead th {\n",
       "        text-align: right;\n",
       "    }\n",
       "</style>\n",
       "<table border=\"1\" class=\"dataframe\">\n",
       "  <thead>\n",
       "    <tr style=\"text-align: right;\">\n",
       "      <th></th>\n",
       "      <th>name</th>\n",
       "      <th>age</th>\n",
       "      <th>salary</th>\n",
       "    </tr>\n",
       "  </thead>\n",
       "  <tbody>\n",
       "    <tr>\n",
       "      <th>0</th>\n",
       "      <td>person 1</td>\n",
       "      <td>38</td>\n",
       "      <td>2900</td>\n",
       "    </tr>\n",
       "    <tr>\n",
       "      <th>1</th>\n",
       "      <td>person 2</td>\n",
       "      <td>103</td>\n",
       "      <td>3000</td>\n",
       "    </tr>\n",
       "    <tr>\n",
       "      <th>2</th>\n",
       "      <td>person 3</td>\n",
       "      <td>63</td>\n",
       "      <td>3100</td>\n",
       "    </tr>\n",
       "    <tr>\n",
       "      <th>3</th>\n",
       "      <td>person 4</td>\n",
       "      <td>53</td>\n",
       "      <td>3150</td>\n",
       "    </tr>\n",
       "    <tr>\n",
       "      <th>4</th>\n",
       "      <td>person 5</td>\n",
       "      <td>79</td>\n",
       "      <td>77500</td>\n",
       "    </tr>\n",
       "  </tbody>\n",
       "</table>\n",
       "</div>"
      ],
      "text/plain": [
       "       name  age  salary\n",
       "0  person 1   38    2900\n",
       "1  person 2  103    3000\n",
       "2  person 3   63    3100\n",
       "3  person 4   53    3150\n",
       "4  person 5   79   77500"
      ]
     },
     "execution_count": 72,
     "metadata": {},
     "output_type": "execute_result"
    }
   ],
   "source": [
    "df"
   ]
  },
  {
   "cell_type": "code",
   "execution_count": 60,
   "id": "f1da87a4-1ce6-47e2-810b-9ec27a11646f",
   "metadata": {},
   "outputs": [
    {
     "data": {
      "text/plain": [
       "0     2400\n",
       "1     2500\n",
       "2     2600\n",
       "3     2650\n",
       "4    77000\n",
       "Name: salary, dtype: int64"
      ]
     },
     "execution_count": 60,
     "metadata": {},
     "output_type": "execute_result"
    }
   ],
   "source": [
    "df[\"salary\"]+500"
   ]
  },
  {
   "cell_type": "code",
   "execution_count": null,
   "id": "89184490-4cba-4b2c-98ae-06282b352042",
   "metadata": {},
   "outputs": [],
   "source": []
  },
  {
   "cell_type": "code",
   "execution_count": 64,
   "id": "f36e5559-2f21-45ab-aba3-9584eeaf1c95",
   "metadata": {},
   "outputs": [],
   "source": [
    "my_dictionary = {\n",
    "    \"name\":[\"Violet\",\"Mary\",\"James\"],\n",
    "    \"age\":[30,45,28],\n",
    "    \"salary\":[35000,40000,30000],\n",
    "    \"target\":[3.5,4.5,3.0],\n",
    "}"
   ]
  },
  {
   "cell_type": "code",
   "execution_count": 65,
   "id": "39513927-0a84-4bbe-9a38-8049396273cd",
   "metadata": {},
   "outputs": [
    {
     "name": "stdout",
     "output_type": "stream",
     "text": [
      "{'name': ['Violet', 'Mary', 'James'], 'age': [30, 45, 28], 'salary': [35000, 40000, 30000], 'target': [3.5, 4.5, 3.0]}\n"
     ]
    }
   ],
   "source": [
    "print(my_dictionary)"
   ]
  },
  {
   "cell_type": "code",
   "execution_count": 69,
   "id": "7101dd63-513b-450c-8e35-0a970cffcd15",
   "metadata": {},
   "outputs": [
    {
     "name": "stdout",
     "output_type": "stream",
     "text": [
      "name ['Violet', 'Mary', 'James']\n",
      "age [30, 45, 28]\n",
      "salary [35000, 40000, 30000]\n",
      "target [3.5, 4.5, 3.0]\n"
     ]
    }
   ],
   "source": [
    "for key,value in my_dictionary.items():\n",
    "    print(key,value)"
   ]
  },
  {
   "cell_type": "code",
   "execution_count": 74,
   "id": "76b03682-0814-4dde-ae2c-5d99fcdc55a6",
   "metadata": {},
   "outputs": [],
   "source": [
    "df[\"age\"],df[\"salary\"] = df[\"age\"]+1, df[\"salary\"]+500"
   ]
  },
  {
   "cell_type": "code",
   "execution_count": 75,
   "id": "e85c1f8f-44e0-47c0-8f2f-1b9bfbe59317",
   "metadata": {},
   "outputs": [
    {
     "data": {
      "text/html": [
       "<div>\n",
       "<style scoped>\n",
       "    .dataframe tbody tr th:only-of-type {\n",
       "        vertical-align: middle;\n",
       "    }\n",
       "\n",
       "    .dataframe tbody tr th {\n",
       "        vertical-align: top;\n",
       "    }\n",
       "\n",
       "    .dataframe thead th {\n",
       "        text-align: right;\n",
       "    }\n",
       "</style>\n",
       "<table border=\"1\" class=\"dataframe\">\n",
       "  <thead>\n",
       "    <tr style=\"text-align: right;\">\n",
       "      <th></th>\n",
       "      <th>name</th>\n",
       "      <th>age</th>\n",
       "      <th>salary</th>\n",
       "    </tr>\n",
       "  </thead>\n",
       "  <tbody>\n",
       "    <tr>\n",
       "      <th>0</th>\n",
       "      <td>person 1</td>\n",
       "      <td>39</td>\n",
       "      <td>3400</td>\n",
       "    </tr>\n",
       "    <tr>\n",
       "      <th>1</th>\n",
       "      <td>person 2</td>\n",
       "      <td>104</td>\n",
       "      <td>3500</td>\n",
       "    </tr>\n",
       "    <tr>\n",
       "      <th>2</th>\n",
       "      <td>person 3</td>\n",
       "      <td>64</td>\n",
       "      <td>3600</td>\n",
       "    </tr>\n",
       "    <tr>\n",
       "      <th>3</th>\n",
       "      <td>person 4</td>\n",
       "      <td>54</td>\n",
       "      <td>3650</td>\n",
       "    </tr>\n",
       "    <tr>\n",
       "      <th>4</th>\n",
       "      <td>person 5</td>\n",
       "      <td>80</td>\n",
       "      <td>78000</td>\n",
       "    </tr>\n",
       "  </tbody>\n",
       "</table>\n",
       "</div>"
      ],
      "text/plain": [
       "       name  age  salary\n",
       "0  person 1   39    3400\n",
       "1  person 2  104    3500\n",
       "2  person 3   64    3600\n",
       "3  person 4   54    3650\n",
       "4  person 5   80   78000"
      ]
     },
     "execution_count": 75,
     "metadata": {},
     "output_type": "execute_result"
    }
   ],
   "source": [
    "df"
   ]
  }
 ],
 "metadata": {
  "kernelspec": {
   "display_name": "Python 3 (ipykernel)",
   "language": "python",
   "name": "python3"
  },
  "language_info": {
   "codemirror_mode": {
    "name": "ipython",
    "version": 3
   },
   "file_extension": ".py",
   "mimetype": "text/x-python",
   "name": "python",
   "nbconvert_exporter": "python",
   "pygments_lexer": "ipython3",
   "version": "3.12.4"
  }
 },
 "nbformat": 4,
 "nbformat_minor": 5
}
