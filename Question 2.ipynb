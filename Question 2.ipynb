{
 "cells": [
  {
   "cell_type": "code",
   "execution_count": 18,
   "id": "6de4000b-d93b-4d41-86c7-cae84d5a1e9e",
   "metadata": {},
   "outputs": [],
   "source": [
    "temperatures=[60,74,69,62,21,19,113,94,78]"
   ]
  },
  {
   "cell_type": "code",
   "execution_count": 19,
   "id": "a8717a22-7cd8-42bc-83c6-71b98a49ba44",
   "metadata": {},
   "outputs": [],
   "source": [
    "fahrenheit_temperatures=[(temp*9/5)+32 for temp in temperatures]\n"
   ]
  },
  {
   "cell_type": "code",
   "execution_count": 22,
   "id": "4c37e72f-c77c-439e-8767-eb61f5d7baa2",
   "metadata": {},
   "outputs": [
    {
     "data": {
      "text/plain": [
       "[140.0, 165.2, 156.2, 143.6, 69.8, 66.2, 235.4, 201.2, 172.4]"
      ]
     },
     "execution_count": 22,
     "metadata": {},
     "output_type": "execute_result"
    }
   ],
   "source": [
    "fahrenheit_temperatures"
   ]
  }
 ],
 "metadata": {
  "kernelspec": {
   "display_name": "Python 3 (ipykernel)",
   "language": "python",
   "name": "python3"
  },
  "language_info": {
   "codemirror_mode": {
    "name": "ipython",
    "version": 3
   },
   "file_extension": ".py",
   "mimetype": "text/x-python",
   "name": "python",
   "nbconvert_exporter": "python",
   "pygments_lexer": "ipython3",
   "version": "3.12.4"
  }
 },
 "nbformat": 4,
 "nbformat_minor": 5
}
