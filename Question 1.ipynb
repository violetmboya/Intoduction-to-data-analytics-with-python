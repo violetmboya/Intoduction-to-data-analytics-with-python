{
 "cells": [
  {
   "cell_type": "code",
   "execution_count": 1,
   "id": "5041372f-64a9-4ca1-8bf1-4fc376cf03bd",
   "metadata": {},
   "outputs": [],
   "source": [
    "my_dictionary={\n",
    "    \"name\":[\"violet\",\"judy\",\"mark\",\"james\",\"linda\",\"joseph\",\"hilda\"],\n",
    "    \"maths\":[80,60,70,90,78,69,73],\n",
    "    \"english\":[67,76,87,46,60,70,53],\n",
    "    \"science\":[79,60,80,96,57,84,70],\n",
    "}"
   ]
  },
  {
   "cell_type": "code",
   "execution_count": 2,
   "id": "f1d1d2b9-0a40-4a5b-9b0d-3b12c2cfead6",
   "metadata": {},
   "outputs": [
    {
     "name": "stdout",
     "output_type": "stream",
     "text": [
      "{'name': ['violet', 'judy', 'mark', 'james', 'linda', 'joseph', 'hilda'], 'maths': [80, 60, 70, 90, 78, 69, 73], 'english': [67, 76, 87, 46, 60, 70, 53], 'science': [79, 60, 80, 96, 57, 84, 70]}\n"
     ]
    }
   ],
   "source": [
    "print(my_dictionary)"
   ]
  },
  {
   "cell_type": "code",
   "execution_count": 3,
   "id": "19ae0660-7a53-44ac-ad8c-f47ee3922af8",
   "metadata": {},
   "outputs": [
    {
     "name": "stdout",
     "output_type": "stream",
     "text": [
      "name ['violet', 'judy', 'mark', 'james', 'linda', 'joseph', 'hilda']\n",
      "maths [80, 60, 70, 90, 78, 69, 73]\n",
      "english [67, 76, 87, 46, 60, 70, 53]\n",
      "science [79, 60, 80, 96, 57, 84, 70]\n"
     ]
    }
   ],
   "source": [
    "for key, values in my_dictionary.items():\n",
    "    print(key, values)"
   ]
  },
  {
   "cell_type": "code",
   "execution_count": 13,
   "id": "ab377d69-e563-4f1c-b9ae-18039ec2b405",
   "metadata": {},
   "outputs": [],
   "source": [
    "import pandas as pd"
   ]
  },
  {
   "cell_type": "code",
   "execution_count": 15,
   "id": "23d27d1e-1b3f-45f0-b82d-fd934bc2453f",
   "metadata": {},
   "outputs": [],
   "source": [
    "df=pd.DataFrame(my_dictionary)"
   ]
  },
  {
   "cell_type": "code",
   "execution_count": 16,
   "id": "0f85038b-e63e-463a-853b-4afdd2d591a1",
   "metadata": {},
   "outputs": [
    {
     "data": {
      "text/html": [
       "<div>\n",
       "<style scoped>\n",
       "    .dataframe tbody tr th:only-of-type {\n",
       "        vertical-align: middle;\n",
       "    }\n",
       "\n",
       "    .dataframe tbody tr th {\n",
       "        vertical-align: top;\n",
       "    }\n",
       "\n",
       "    .dataframe thead th {\n",
       "        text-align: right;\n",
       "    }\n",
       "</style>\n",
       "<table border=\"1\" class=\"dataframe\">\n",
       "  <thead>\n",
       "    <tr style=\"text-align: right;\">\n",
       "      <th></th>\n",
       "      <th>name</th>\n",
       "      <th>maths</th>\n",
       "      <th>english</th>\n",
       "      <th>science</th>\n",
       "    </tr>\n",
       "  </thead>\n",
       "  <tbody>\n",
       "    <tr>\n",
       "      <th>0</th>\n",
       "      <td>violet</td>\n",
       "      <td>80</td>\n",
       "      <td>67</td>\n",
       "      <td>79</td>\n",
       "    </tr>\n",
       "    <tr>\n",
       "      <th>1</th>\n",
       "      <td>judy</td>\n",
       "      <td>60</td>\n",
       "      <td>76</td>\n",
       "      <td>60</td>\n",
       "    </tr>\n",
       "    <tr>\n",
       "      <th>2</th>\n",
       "      <td>mark</td>\n",
       "      <td>70</td>\n",
       "      <td>87</td>\n",
       "      <td>80</td>\n",
       "    </tr>\n",
       "    <tr>\n",
       "      <th>3</th>\n",
       "      <td>james</td>\n",
       "      <td>90</td>\n",
       "      <td>46</td>\n",
       "      <td>96</td>\n",
       "    </tr>\n",
       "    <tr>\n",
       "      <th>4</th>\n",
       "      <td>linda</td>\n",
       "      <td>78</td>\n",
       "      <td>60</td>\n",
       "      <td>57</td>\n",
       "    </tr>\n",
       "    <tr>\n",
       "      <th>5</th>\n",
       "      <td>joseph</td>\n",
       "      <td>69</td>\n",
       "      <td>70</td>\n",
       "      <td>84</td>\n",
       "    </tr>\n",
       "    <tr>\n",
       "      <th>6</th>\n",
       "      <td>hilda</td>\n",
       "      <td>73</td>\n",
       "      <td>53</td>\n",
       "      <td>70</td>\n",
       "    </tr>\n",
       "  </tbody>\n",
       "</table>\n",
       "</div>"
      ],
      "text/plain": [
       "     name  maths  english  science\n",
       "0  violet     80       67       79\n",
       "1    judy     60       76       60\n",
       "2    mark     70       87       80\n",
       "3   james     90       46       96\n",
       "4   linda     78       60       57\n",
       "5  joseph     69       70       84\n",
       "6   hilda     73       53       70"
      ]
     },
     "execution_count": 16,
     "metadata": {},
     "output_type": "execute_result"
    }
   ],
   "source": [
    "df"
   ]
  },
  {
   "cell_type": "code",
   "execution_count": 23,
   "id": "8ac3440d-7088-49a4-8eff-47f75aca3902",
   "metadata": {},
   "outputs": [],
   "source": [
    "df[\"average\"]=df[[\"maths\",\"english\",\"science\"]].mean(axis=1)\n"
   ]
  },
  {
   "cell_type": "code",
   "execution_count": 24,
   "id": "2019f03d-4c2d-42a7-a82b-2e3350efe4c7",
   "metadata": {},
   "outputs": [
    {
     "data": {
      "text/html": [
       "<div>\n",
       "<style scoped>\n",
       "    .dataframe tbody tr th:only-of-type {\n",
       "        vertical-align: middle;\n",
       "    }\n",
       "\n",
       "    .dataframe tbody tr th {\n",
       "        vertical-align: top;\n",
       "    }\n",
       "\n",
       "    .dataframe thead th {\n",
       "        text-align: right;\n",
       "    }\n",
       "</style>\n",
       "<table border=\"1\" class=\"dataframe\">\n",
       "  <thead>\n",
       "    <tr style=\"text-align: right;\">\n",
       "      <th></th>\n",
       "      <th>name</th>\n",
       "      <th>maths</th>\n",
       "      <th>english</th>\n",
       "      <th>science</th>\n",
       "      <th>average</th>\n",
       "    </tr>\n",
       "  </thead>\n",
       "  <tbody>\n",
       "    <tr>\n",
       "      <th>0</th>\n",
       "      <td>violet</td>\n",
       "      <td>80</td>\n",
       "      <td>67</td>\n",
       "      <td>79</td>\n",
       "      <td>75.333333</td>\n",
       "    </tr>\n",
       "    <tr>\n",
       "      <th>1</th>\n",
       "      <td>judy</td>\n",
       "      <td>60</td>\n",
       "      <td>76</td>\n",
       "      <td>60</td>\n",
       "      <td>65.333333</td>\n",
       "    </tr>\n",
       "    <tr>\n",
       "      <th>2</th>\n",
       "      <td>mark</td>\n",
       "      <td>70</td>\n",
       "      <td>87</td>\n",
       "      <td>80</td>\n",
       "      <td>79.000000</td>\n",
       "    </tr>\n",
       "    <tr>\n",
       "      <th>3</th>\n",
       "      <td>james</td>\n",
       "      <td>90</td>\n",
       "      <td>46</td>\n",
       "      <td>96</td>\n",
       "      <td>77.333333</td>\n",
       "    </tr>\n",
       "    <tr>\n",
       "      <th>4</th>\n",
       "      <td>linda</td>\n",
       "      <td>78</td>\n",
       "      <td>60</td>\n",
       "      <td>57</td>\n",
       "      <td>65.000000</td>\n",
       "    </tr>\n",
       "    <tr>\n",
       "      <th>5</th>\n",
       "      <td>joseph</td>\n",
       "      <td>69</td>\n",
       "      <td>70</td>\n",
       "      <td>84</td>\n",
       "      <td>74.333333</td>\n",
       "    </tr>\n",
       "    <tr>\n",
       "      <th>6</th>\n",
       "      <td>hilda</td>\n",
       "      <td>73</td>\n",
       "      <td>53</td>\n",
       "      <td>70</td>\n",
       "      <td>65.333333</td>\n",
       "    </tr>\n",
       "  </tbody>\n",
       "</table>\n",
       "</div>"
      ],
      "text/plain": [
       "     name  maths  english  science    average\n",
       "0  violet     80       67       79  75.333333\n",
       "1    judy     60       76       60  65.333333\n",
       "2    mark     70       87       80  79.000000\n",
       "3   james     90       46       96  77.333333\n",
       "4   linda     78       60       57  65.000000\n",
       "5  joseph     69       70       84  74.333333\n",
       "6   hilda     73       53       70  65.333333"
      ]
     },
     "execution_count": 24,
     "metadata": {},
     "output_type": "execute_result"
    }
   ],
   "source": [
    "df"
   ]
  },
  {
   "cell_type": "code",
   "execution_count": 25,
   "id": "b29ff7ed-c4a3-49b9-984c-3fa94eb09566",
   "metadata": {},
   "outputs": [
    {
     "data": {
      "text/html": [
       "<div>\n",
       "<style scoped>\n",
       "    .dataframe tbody tr th:only-of-type {\n",
       "        vertical-align: middle;\n",
       "    }\n",
       "\n",
       "    .dataframe tbody tr th {\n",
       "        vertical-align: top;\n",
       "    }\n",
       "\n",
       "    .dataframe thead th {\n",
       "        text-align: right;\n",
       "    }\n",
       "</style>\n",
       "<table border=\"1\" class=\"dataframe\">\n",
       "  <thead>\n",
       "    <tr style=\"text-align: right;\">\n",
       "      <th></th>\n",
       "      <th>name</th>\n",
       "      <th>maths</th>\n",
       "      <th>english</th>\n",
       "      <th>science</th>\n",
       "      <th>average</th>\n",
       "    </tr>\n",
       "  </thead>\n",
       "  <tbody>\n",
       "    <tr>\n",
       "      <th>2</th>\n",
       "      <td>mark</td>\n",
       "      <td>70</td>\n",
       "      <td>87</td>\n",
       "      <td>80</td>\n",
       "      <td>79.000000</td>\n",
       "    </tr>\n",
       "    <tr>\n",
       "      <th>3</th>\n",
       "      <td>james</td>\n",
       "      <td>90</td>\n",
       "      <td>46</td>\n",
       "      <td>96</td>\n",
       "      <td>77.333333</td>\n",
       "    </tr>\n",
       "    <tr>\n",
       "      <th>0</th>\n",
       "      <td>violet</td>\n",
       "      <td>80</td>\n",
       "      <td>67</td>\n",
       "      <td>79</td>\n",
       "      <td>75.333333</td>\n",
       "    </tr>\n",
       "    <tr>\n",
       "      <th>5</th>\n",
       "      <td>joseph</td>\n",
       "      <td>69</td>\n",
       "      <td>70</td>\n",
       "      <td>84</td>\n",
       "      <td>74.333333</td>\n",
       "    </tr>\n",
       "    <tr>\n",
       "      <th>1</th>\n",
       "      <td>judy</td>\n",
       "      <td>60</td>\n",
       "      <td>76</td>\n",
       "      <td>60</td>\n",
       "      <td>65.333333</td>\n",
       "    </tr>\n",
       "    <tr>\n",
       "      <th>6</th>\n",
       "      <td>hilda</td>\n",
       "      <td>73</td>\n",
       "      <td>53</td>\n",
       "      <td>70</td>\n",
       "      <td>65.333333</td>\n",
       "    </tr>\n",
       "    <tr>\n",
       "      <th>4</th>\n",
       "      <td>linda</td>\n",
       "      <td>78</td>\n",
       "      <td>60</td>\n",
       "      <td>57</td>\n",
       "      <td>65.000000</td>\n",
       "    </tr>\n",
       "  </tbody>\n",
       "</table>\n",
       "</div>"
      ],
      "text/plain": [
       "     name  maths  english  science    average\n",
       "2    mark     70       87       80  79.000000\n",
       "3   james     90       46       96  77.333333\n",
       "0  violet     80       67       79  75.333333\n",
       "5  joseph     69       70       84  74.333333\n",
       "1    judy     60       76       60  65.333333\n",
       "6   hilda     73       53       70  65.333333\n",
       "4   linda     78       60       57  65.000000"
      ]
     },
     "execution_count": 25,
     "metadata": {},
     "output_type": "execute_result"
    }
   ],
   "source": [
    "df.sort_values(by=\"average\",ascending=False)"
   ]
  }
 ],
 "metadata": {
  "kernelspec": {
   "display_name": "Python 3 (ipykernel)",
   "language": "python",
   "name": "python3"
  },
  "language_info": {
   "codemirror_mode": {
    "name": "ipython",
    "version": 3
   },
   "file_extension": ".py",
   "mimetype": "text/x-python",
   "name": "python",
   "nbconvert_exporter": "python",
   "pygments_lexer": "ipython3",
   "version": "3.12.4"
  }
 },
 "nbformat": 4,
 "nbformat_minor": 5
}
