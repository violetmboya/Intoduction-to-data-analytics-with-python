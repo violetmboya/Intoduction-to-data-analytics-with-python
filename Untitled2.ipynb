{
 "cells": [
  {
   "cell_type": "code",
   "execution_count": 7,
   "id": "596471d5-fee6-4acf-aed2-accbfe6286ef",
   "metadata": {},
   "outputs": [],
   "source": [
    "my_dictionary={\n",
    "    \"name\":[\"violet\",\"mark\",\"Laura\",\"tonny\"],\n",
    "    \"age\":[26,30,47,50],\n",
    "    \"salary\":[30000,35000,40000,45000],\n",
    "    \"target\":[3,4,5,6],\n",
    "}"
   ]
  },
  {
   "cell_type": "code",
   "execution_count": 8,
   "id": "e5e33a12-403e-4585-9dcd-7acae575becb",
   "metadata": {},
   "outputs": [
    {
     "name": "stdout",
     "output_type": "stream",
     "text": [
      "{'name': ['violet', 'mark', 'Laura', 'tonny'], 'age': [26, 30, 47, 50], 'salary': [30000, 35000, 40000, 45000], 'target': [3, 4, 5, 6]}\n"
     ]
    }
   ],
   "source": [
    "print(my_dictionary)"
   ]
  },
  {
   "cell_type": "code",
   "execution_count": 10,
   "id": "3dd07584-dad7-46a5-bb13-39137dcb0190",
   "metadata": {},
   "outputs": [
    {
     "name": "stdout",
     "output_type": "stream",
     "text": [
      "name ['violet', 'mark', 'Laura', 'tonny']\n",
      "age [26, 30, 47, 50]\n",
      "salary [30000, 35000, 40000, 45000]\n",
      "target [3, 4, 5, 6]\n"
     ]
    }
   ],
   "source": [
    "for key, value in my_dictionary.items():\n",
    "    print(key, value)"
   ]
  },
  {
   "cell_type": "code",
   "execution_count": 9,
   "id": "19a2eead-43ab-4d18-b5d2-b440ef8b17de",
   "metadata": {},
   "outputs": [],
   "source": [
    "import pandas as pd"
   ]
  },
  {
   "cell_type": "code",
   "execution_count": null,
   "id": "d755eeb8-28d2-43f9-9c8d-2038e1dd0065",
   "metadata": {},
   "outputs": [],
   "source": []
  },
  {
   "cell_type": "code",
   "execution_count": 22,
   "id": "c8adf41d-c2ac-4252-a155-b22ae03fa973",
   "metadata": {},
   "outputs": [],
   "source": [
    "my_dictionary={\n",
    "    \"name\":[\"violet\",\"mark\",\"laura\",\"tonny\"],\n",
    "    \"age\":[26,30,47,50],\n",
    "    \"salary\":[30000,35000,40000,45000],\n",
    "    \"target\":[3,4,5,6],\n",
    "}"
   ]
  },
  {
   "cell_type": "code",
   "execution_count": 23,
   "id": "7b8c83ae-a978-4745-90bf-74431bfc44fd",
   "metadata": {},
   "outputs": [
    {
     "data": {
      "text/plain": [
       "{'name': ['violet', 'mark', 'laura', 'tonny'],\n",
       " 'age': [26, 30, 47, 50],\n",
       " 'salary': [30000, 35000, 40000, 45000],\n",
       " 'target': [3, 4, 5, 6]}"
      ]
     },
     "execution_count": 23,
     "metadata": {},
     "output_type": "execute_result"
    }
   ],
   "source": [
    "my_dictionary"
   ]
  },
  {
   "cell_type": "code",
   "execution_count": 24,
   "id": "2b7b4778-c6d5-4c86-83ac-fa9f990e9bbe",
   "metadata": {},
   "outputs": [],
   "source": [
    "df = pd.DataFrame(my_dictionary)"
   ]
  },
  {
   "cell_type": "code",
   "execution_count": 25,
   "id": "b7d8ee27-7ce2-46df-b293-f53887029d66",
   "metadata": {},
   "outputs": [
    {
     "data": {
      "text/html": [
       "<div>\n",
       "<style scoped>\n",
       "    .dataframe tbody tr th:only-of-type {\n",
       "        vertical-align: middle;\n",
       "    }\n",
       "\n",
       "    .dataframe tbody tr th {\n",
       "        vertical-align: top;\n",
       "    }\n",
       "\n",
       "    .dataframe thead th {\n",
       "        text-align: right;\n",
       "    }\n",
       "</style>\n",
       "<table border=\"1\" class=\"dataframe\">\n",
       "  <thead>\n",
       "    <tr style=\"text-align: right;\">\n",
       "      <th></th>\n",
       "      <th>name</th>\n",
       "      <th>age</th>\n",
       "      <th>salary</th>\n",
       "      <th>target</th>\n",
       "    </tr>\n",
       "  </thead>\n",
       "  <tbody>\n",
       "    <tr>\n",
       "      <th>0</th>\n",
       "      <td>violet</td>\n",
       "      <td>26</td>\n",
       "      <td>30000</td>\n",
       "      <td>3</td>\n",
       "    </tr>\n",
       "    <tr>\n",
       "      <th>1</th>\n",
       "      <td>mark</td>\n",
       "      <td>30</td>\n",
       "      <td>35000</td>\n",
       "      <td>4</td>\n",
       "    </tr>\n",
       "    <tr>\n",
       "      <th>2</th>\n",
       "      <td>laura</td>\n",
       "      <td>47</td>\n",
       "      <td>40000</td>\n",
       "      <td>5</td>\n",
       "    </tr>\n",
       "    <tr>\n",
       "      <th>3</th>\n",
       "      <td>tonny</td>\n",
       "      <td>50</td>\n",
       "      <td>45000</td>\n",
       "      <td>6</td>\n",
       "    </tr>\n",
       "  </tbody>\n",
       "</table>\n",
       "</div>"
      ],
      "text/plain": [
       "     name  age  salary  target\n",
       "0  violet   26   30000       3\n",
       "1    mark   30   35000       4\n",
       "2   laura   47   40000       5\n",
       "3   tonny   50   45000       6"
      ]
     },
     "execution_count": 25,
     "metadata": {},
     "output_type": "execute_result"
    }
   ],
   "source": [
    "df"
   ]
  },
  {
   "cell_type": "code",
   "execution_count": 26,
   "id": "28f12cb5-907d-40d1-86cf-46ce151d74bb",
   "metadata": {},
   "outputs": [],
   "source": [
    "df[\"target\"],df[\"salary\"]=df[\"target\"]+1,df[\"salary\"]+1000"
   ]
  },
  {
   "cell_type": "code",
   "execution_count": 27,
   "id": "5572bcf1-3a35-4e18-aea2-b70acaf4d1fa",
   "metadata": {},
   "outputs": [
    {
     "data": {
      "text/html": [
       "<div>\n",
       "<style scoped>\n",
       "    .dataframe tbody tr th:only-of-type {\n",
       "        vertical-align: middle;\n",
       "    }\n",
       "\n",
       "    .dataframe tbody tr th {\n",
       "        vertical-align: top;\n",
       "    }\n",
       "\n",
       "    .dataframe thead th {\n",
       "        text-align: right;\n",
       "    }\n",
       "</style>\n",
       "<table border=\"1\" class=\"dataframe\">\n",
       "  <thead>\n",
       "    <tr style=\"text-align: right;\">\n",
       "      <th></th>\n",
       "      <th>name</th>\n",
       "      <th>age</th>\n",
       "      <th>salary</th>\n",
       "      <th>target</th>\n",
       "    </tr>\n",
       "  </thead>\n",
       "  <tbody>\n",
       "    <tr>\n",
       "      <th>0</th>\n",
       "      <td>violet</td>\n",
       "      <td>26</td>\n",
       "      <td>31000</td>\n",
       "      <td>4</td>\n",
       "    </tr>\n",
       "    <tr>\n",
       "      <th>1</th>\n",
       "      <td>mark</td>\n",
       "      <td>30</td>\n",
       "      <td>36000</td>\n",
       "      <td>5</td>\n",
       "    </tr>\n",
       "    <tr>\n",
       "      <th>2</th>\n",
       "      <td>laura</td>\n",
       "      <td>47</td>\n",
       "      <td>41000</td>\n",
       "      <td>6</td>\n",
       "    </tr>\n",
       "    <tr>\n",
       "      <th>3</th>\n",
       "      <td>tonny</td>\n",
       "      <td>50</td>\n",
       "      <td>46000</td>\n",
       "      <td>7</td>\n",
       "    </tr>\n",
       "  </tbody>\n",
       "</table>\n",
       "</div>"
      ],
      "text/plain": [
       "     name  age  salary  target\n",
       "0  violet   26   31000       4\n",
       "1    mark   30   36000       5\n",
       "2   laura   47   41000       6\n",
       "3   tonny   50   46000       7"
      ]
     },
     "execution_count": 27,
     "metadata": {},
     "output_type": "execute_result"
    }
   ],
   "source": [
    "df"
   ]
  }
 ],
 "metadata": {
  "kernelspec": {
   "display_name": "Python 3 (ipykernel)",
   "language": "python",
   "name": "python3"
  },
  "language_info": {
   "codemirror_mode": {
    "name": "ipython",
    "version": 3
   },
   "file_extension": ".py",
   "mimetype": "text/x-python",
   "name": "python",
   "nbconvert_exporter": "python",
   "pygments_lexer": "ipython3",
   "version": "3.12.4"
  }
 },
 "nbformat": 4,
 "nbformat_minor": 5
}
